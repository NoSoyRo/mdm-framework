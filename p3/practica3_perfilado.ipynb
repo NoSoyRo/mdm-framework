{
 "cells": [
  {
   "cell_type": "markdown",
   "id": "30946fda",
   "metadata": {},
   "source": [
    "# Práctica 3: Perfilado de Datos y Completitud con Python\n",
    "\n",
    "**Objetivo:** Verificar la consistencia, duplicidad y completitud de los datos de clientes usando Python.\n",
    "\n",
    "**Archivos fuente:**\n",
    "- P3-Tal-Clientes.csv\n",
    "- P3-gettingstarted.sql\n",
    "\n",
    "**Actividades:**\n",
    "1. Cargar y explorar los datos\n",
    "2. Renombrar y tipificar columnas\n",
    "3. Analizar duplicidad y unicidad\n",
    "4. Calcular completitud de columnas\n",
    "5. Validar patrones de email y postcode\n",
    "6. Visualizar y reportar resultados"
   ]
  },
  {
   "cell_type": "code",
   "execution_count": 1,
   "id": "a09e056e",
   "metadata": {},
   "outputs": [
    {
     "name": "stdout",
     "output_type": "stream",
     "text": [
      "Librerías importadas correctamente\n"
     ]
    }
   ],
   "source": [
    "# Importar librerías\n",
    "import pandas as pd\n",
    "import numpy as np\n",
    "import re\n",
    "import matplotlib.pyplot as plt\n",
    "print('Librerías importadas correctamente')"
   ]
  },
  {
   "cell_type": "markdown",
   "id": "af23ef04",
   "metadata": {},
   "source": [
    "## 1. Cargar y explorar los datos\n",
    "Cargamos los datos de clientes desde los archivos CSV y SQL proporcionados."
   ]
  },
  {
   "cell_type": "code",
   "execution_count": 3,
   "id": "9c46e518",
   "metadata": {},
   "outputs": [
    {
     "name": "stdout",
     "output_type": "stream",
     "text": [
      "CSV cargado: ./P3-Tal-Clientes.csv\n",
      "  given_name   surname       suburb postcode state                email\n",
      "0       ruby   gunawan       orange     2441   vic   rubgun@outlook.com\n",
      "1      jakob     green    oysterbay     3909   nsw    jakgre@@yahoo.com\n",
      "2       noah  mcgregor        forth     2843   vic     noamcg@nokia.com\n",
      "3      sonja        ho  malverneast     5571   vic  sonho@microsoft.com\n",
      "4        zoe     stech      burwood     2570   nsw  zoeste@yahoo.com.mx\n"
     ]
    }
   ],
   "source": [
    "# Cargar datos desde CSV\n",
    "csv_path = './P3-Tal-Clientes.csv'\n",
    "df_csv = pd.read_csv(csv_path)\n",
    "print(f'CSV cargado: {csv_path}')\n",
    "print(df_csv.head())"
   ]
  },
  {
   "cell_type": "code",
   "execution_count": 8,
   "id": "87532270",
   "metadata": {},
   "outputs": [
    {
     "name": "stdout",
     "output_type": "stream",
     "text": [
      "SQL cargado: ./P3-gettingstarted.sql\n",
      "  Given_name    Surname  Postcode State     Email\n",
      "0          1      James      Butt     F  Under 18\n",
      "1          2  Josephine   Darakjy     M       56+\n",
      "2          3        Art    Venere     M     25-34\n",
      "3          4      Lenna  Paprocki     M     45-49\n",
      "4          5    Donette    Foller     M     25-34\n"
     ]
    }
   ],
   "source": [
    "import pandas as pd\n",
    "import re\n",
    "\n",
    "sql_path = './P3-gettingstarted.sql'\n",
    "\n",
    "def parse_sql_file(file_path):\n",
    "    with open(file_path, 'r', encoding='utf-8') as f:\n",
    "        sql_content = f.read()\n",
    "    # Buscar INSERT statements\n",
    "    insert_pattern = r'INSERT INTO.*?VALUES\\s*(.+?);'\n",
    "    insert_matches = re.findall(insert_pattern, sql_content, re.IGNORECASE | re.DOTALL)\n",
    "    all_data = []\n",
    "    for insert_values in insert_matches:\n",
    "        value_tuples = re.findall(r'\\(([^)]+)\\)', insert_values)\n",
    "        for value_tuple in value_tuples:\n",
    "            parts = re.split(r\",(?=(?:[^']*'[^']*')*[^']*$)\", value_tuple)\n",
    "            values = [v.strip().strip(\"'\").strip('\"') for v in parts]\n",
    "            all_data.append(values)\n",
    "    columns = ['Given_name', 'Surname', 'Postcode', 'State', 'Email']\n",
    "    # Normalizar todas las filas al mismo tamaño\n",
    "    n_cols = len(columns)\n",
    "    all_data = [row + ['']*(n_cols-len(row)) if len(row)<n_cols else row[:n_cols] for row in all_data]\n",
    "    df = pd.DataFrame(all_data, columns=columns)\n",
    "    return df\n",
    "\n",
    "df_sql = parse_sql_file(sql_path)\n",
    "print(f'SQL cargado: {sql_path}')\n",
    "print(df_sql.head())"
   ]
  },
  {
   "cell_type": "markdown",
   "id": "7d6feae9",
   "metadata": {},
   "source": [
    "## 2. Renombrar y tipificar columnas\n",
    "Renombramos las columnas y asignamos el tipo de dato correspondiente."
   ]
  },
  {
   "cell_type": "code",
   "execution_count": 10,
   "id": "f69b36c6",
   "metadata": {},
   "outputs": [
    {
     "name": "stdout",
     "output_type": "stream",
     "text": [
      "Columnas originales CSV: ['given_name', 'surname', 'suburb', 'postcode', 'state', 'email']\n",
      "Columnas después de renombrar CSV: ['given_name', 'surname', 'suburb', 'postcode', 'state', 'email']\n",
      "Columnas originales SQL: ['nombre', 'apellido', 'codigo_postal', 'estado', 'email']\n",
      "Columnas después de renombrar SQL: ['nombre', 'apellido', 'codigo_postal', 'estado', 'email']\n",
      "Columnas renombradas y tipificadas\n"
     ]
    }
   ],
   "source": [
    "# Renombrar columnas y tipificar\n",
    "columnas = {\n",
    "    'Given_name': 'nombre',\n",
    "    'Surname': 'apellido',\n",
    "    'Postcode': 'codigo_postal',\n",
    "    'State': 'estado',\n",
    "    'Email': 'email'\n",
    "}\n",
    "print('Columnas originales CSV:', df_csv.columns.tolist())\n",
    "df_csv = df_csv.rename(columns=columnas)\n",
    "print('Columnas después de renombrar CSV:', df_csv.columns.tolist())\n",
    "print('Columnas originales SQL:', df_sql.columns.tolist())\n",
    "df_sql = df_sql.rename(columns=columnas)\n",
    "print('Columnas después de renombrar SQL:', df_sql.columns.tolist())\n",
    "# Tipificar solo si existe la columna\n",
    "if 'codigo_postal' in df_csv.columns:\n",
    "    df_csv['codigo_postal'] = pd.to_numeric(df_csv['codigo_postal'], errors='coerce')\n",
    "if 'codigo_postal' in df_sql.columns:\n",
    "    df_sql['codigo_postal'] = pd.to_numeric(df_sql['codigo_postal'], errors='coerce')\n",
    "print('Columnas renombradas y tipificadas')"
   ]
  },
  {
   "cell_type": "markdown",
   "id": "0a94a5fa",
   "metadata": {},
   "source": [
    "## 3. Analizar duplicidad y unicidad\n",
    "Analizamos la duplicidad y unicidad de los campos clave."
   ]
  },
  {
   "cell_type": "code",
   "execution_count": 11,
   "id": "c6fa2175",
   "metadata": {},
   "outputs": [
    {
     "name": "stdout",
     "output_type": "stream",
     "text": [
      "Total registros integrados: 6290\n",
      "Duplicados por email: 6129\n",
      "Duplicados por código postal: 6290\n",
      "Duplicados por nombre+apellido: 250\n"
     ]
    }
   ],
   "source": [
    "# Unir ambos DataFrames\n",
    "df = pd.concat([df_csv, df_sql], ignore_index=True)\n",
    "print(f'Total registros integrados: {len(df)}')\n",
    "# Duplicados por email\n",
    "duplicados_email = df['email'].duplicated(keep=False).sum()\n",
    "print(f'Duplicados por email: {duplicados_email}')\n",
    "# Duplicados por codigo_postal\n",
    "duplicados_postal = df['codigo_postal'].duplicated(keep=False).sum()\n",
    "print(f'Duplicados por código postal: {duplicados_postal}')\n",
    "# Duplicados por nombre+apellido\n",
    "duplicados_nombre = df.duplicated(subset=['nombre', 'apellido'], keep=False).sum()\n",
    "print(f'Duplicados por nombre+apellido: {duplicados_nombre}')"
   ]
  },
  {
   "cell_type": "markdown",
   "id": "b93a3495",
   "metadata": {},
   "source": [
    "## 4. Calcular completitud de columnas\n",
    "Calculamos el porcentaje de valores no nulos y válidos por columna."
   ]
  },
  {
   "cell_type": "code",
   "execution_count": 12,
   "id": "0f51cfd8",
   "metadata": {},
   "outputs": [
    {
     "name": "stdout",
     "output_type": "stream",
     "text": [
      "Completitud por columna (% de no nulos):\n",
      "  given_name: 3.9%\n",
      "  surname: 3.88%\n",
      "  suburb: 3.94%\n",
      "  postcode: 3.7%\n",
      "  state: 3.67%\n",
      "  email: 99.92%\n",
      "  nombre: 96.03%\n",
      "  apellido: 96.03%\n",
      "  codigo_postal: 0.0%\n",
      "  estado: 96.03%\n"
     ]
    }
   ],
   "source": [
    "# Completitud por columna\n",
    "completitud = {}\n",
    "for col in df.columns:\n",
    "    total = len(df)\n",
    "    no_nulos = df[col].notna().sum()\n",
    "    completitud[col] = round(no_nulos / total * 100, 2)\n",
    "print('Completitud por columna (% de no nulos):')\n",
    "for col, pct in completitud.items():\n",
    "    print(f'  {col}: {pct}%')"
   ]
  },
  {
   "cell_type": "markdown",
   "id": "3caab0f4",
   "metadata": {},
   "source": [
    "## 5. Validar patrones de email y código postal\n",
    "Validamos el formato de los correos electrónicos y códigos postales."
   ]
  },
  {
   "cell_type": "code",
   "execution_count": 13,
   "id": "27a922de",
   "metadata": {},
   "outputs": [
    {
     "name": "stdout",
     "output_type": "stream",
     "text": [
      "Correos válidos: 0 de 6290 (0.00%)\n",
      "Códigos postales válidos: 0 de 6290 (0.00%)\n"
     ]
    }
   ],
   "source": [
    "# Validación de email\n",
    "def es_email_valido(email):\n",
    "    if pd.isna(email): return False\n",
    "    patron = r'^[-]+@[-]+[a-zA-Z]{2,}$'\n",
    "    return bool(re.match(patron, str(email)))\n",
    "df['email_valido'] = df['email'].apply(es_email_valido)\n",
    "emails_validos = df['email_valido'].sum()\n",
    "print(f'Correos válidos: {emails_validos} de {len(df)} ({emails_validos/len(df)*100:.2f}%)')\n",
    "# Validación de código postal (5 dígitos)\n",
    "df['codigo_postal_valido'] = df['codigo_postal'].apply(lambda x: str(x).isdigit() and len(str(int(x)))==5 if not pd.isna(x) else False)\n",
    "codigos_validos = df['codigo_postal_valido'].sum()\n",
    "print(f'Códigos postales válidos: {codigos_validos} de {len(df)} ({codigos_validos/len(df)*100:.2f}%)')"
   ]
  },
  {
   "cell_type": "markdown",
   "id": "d58b44d9",
   "metadata": {},
   "source": [
    "## 6. Visualizar y reportar resultados\n",
    "Visualizamos la distribución y generamos reportes simples."
   ]
  },
  {
   "cell_type": "code",
   "execution_count": 14,
   "id": "49f77e1d",
   "metadata": {},
   "outputs": [
    {
     "data": {
      "image/png": "[encoded data removed]",
      "text/plain": [
       "<Figure size 576x360 with 1 Axes>"
      ]
     },
     "metadata": {
      "needs_background": "light"
     },
     "output_type": "display_data"
    },
    {
     "data": {
      "image/png": "[encoded data removed]",
      "text/plain": [
       "<Figure size 360x216 with 1 Axes>"
      ]
     },
     "metadata": {
      "needs_background": "light"
     },
     "output_type": "display_data"
    }
   ],
   "source": [
    "# Visualización de completitud\n",
    "plt.figure(figsize=(8,5))\n",
    "plt.bar(completitud.keys(), completitud.values(), color='skyblue')\n",
    "plt.title('Completitud por columna (%)')\n",
    "plt.ylabel('% de no nulos')\n",
    "plt.xticks(rotation=45)\n",
    "plt.show()\n",
    "# Visualización de emails válidos\n",
    "plt.figure(figsize=(5,3))\n",
    "plt.bar(['Válidos', 'Inválidos'], [emails_validos, len(df)-emails_validos], color=['green','red'])\n",
    "plt.title('Validez de correos electrónicos')\n",
    "plt.ylabel('Cantidad')\n",
    "plt.show()"
   ]
  },
  {
   "cell_type": "markdown",
   "id": "d09bb689",
   "metadata": {},
   "source": [
    "# Resumen de la Práctica 3: Perfilado de Datos y Completitud con Python\n",
    "\n",
    "A continuación se explica cómo cada punto de la práctica se resuelve con el código del notebook:\n",
    "\n",
    "**1. Cargar y explorar los datos**\n",
    "- Se utilizan pandas para cargar los datos desde los archivos CSV y SQL.\n",
    "- Se muestran las primeras filas de cada fuente para inspección inicial.\n",
    "\n",
    "**2. Renombrar y tipificar columnas**\n",
    "- Se renombra cada columna según el diccionario solicitado para unificar el esquema.\n",
    "- Se tipifica la columna 'codigo_postal' como numérica si existe, asegurando consistencia de tipos.\n",
    "\n",
    "**3. Analizar duplicidad y unicidad**\n",
    "- Se integran los datos de ambas fuentes en un solo DataFrame.\n",
    "- Se calcula el número de registros duplicados por email, código postal y por nombre+apellido usando pandas.\n",
    "\n",
    "**4. Calcular completitud de columnas**\n",
    "- Se calcula el porcentaje de valores no nulos por cada columna y se imprime el resultado.\n",
    "\n",
    "**5. Validar patrones de email y código postal**\n",
    "- Se valida el formato de los correos electrónicos con expresiones regulares.\n",
    "- Se valida que los códigos postales tengan 5 dígitos.\n",
    "- Se muestra el porcentaje de correos y códigos válidos.\n",
    "\n",
    "**6. Visualizar y reportar resultados**\n",
    "- Se grafican la completitud de columnas y la validez de correos electrónicos usando matplotlib.\n",
    "- Los resultados permiten identificar la calidad y consistencia de los datos.\n",
    "\n",
    "**Conclusión:**\n",
    "El notebook implementa todo el perfilado y análisis solicitado en la práctica, usando únicamente código Python y pandas, sin necesidad de herramientas externas. Cada paso está documentado y validado con salidas intermedias y visualizaciones."
   ]
  }
 ],
 "metadata": {
  "kernelspec": {
   "display_name": "base",
   "language": "python",
   "name": "python3"
  },
  "language_info": {
   "codemirror_mode": {
    "name": "ipython",
    "version": 3
   },
   "file_extension": ".py",
   "mimetype": "text/x-python",
   "name": "python",
   "nbconvert_exporter": "python",
   "pygments_lexer": "ipython3",
   "version": "3.8.12"
  }
 },
 "nbformat": 4,
 "nbformat_minor": 5
}
